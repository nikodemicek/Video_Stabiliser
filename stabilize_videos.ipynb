{
 "cells": [
  {
   "cell_type": "code",
   "execution_count": 25,
   "metadata": {},
   "outputs": [],
   "source": [
    "\n",
    "import os\n",
    "from vidstab import VidStab\n",
    "import cv2\n",
    "\n",
    "from concurrent.futures import ThreadPoolExecutor, as_completed\n",
    "\n",
    "\n",
    "def stabilize_video(input_path, output_path):\n",
    "    \"\"\"\n",
    "    Stabilise a single video. If unhappy with the stabilisation, play with the settings of the\n",
    "    VidStab class or stabilize method parameters.\n",
    "\n",
    "    Refer to vidstab docs:\n",
    "    https://pypi.org/project/vidstab/\n",
    "    \"\"\"\n",
    "    # Create an instance of the VidStab class\n",
    "    # try different kp_methods - Faster - ORB, FAST, slower MSER, SIFT, DENSE\n",
    "    stabilizer = VidStab(kp_method=\"FAST\",\n",
    "                         threshold=42,\n",
    "                         nonmaxSuppression=False)\n",
    "\n",
    "    stabilizer.stabilize(input_path=input_path,\n",
    "                         output_path=output_path,\n",
    "                         smoothing_window = 45,\n",
    "                         border_size=-75)\n",
    "\n",
    "\n",
    "def stabilize_videos(input_folder, output_folder):\n",
    "    \"\"\"\n",
    "    Stabilises videos sequentially\n",
    "    \"\"\"\n",
    "    # Ensure output folder exists\n",
    "    os.makedirs(output_folder, exist_ok=True)\n",
    "\n",
    "    # Loop through all files in the input folder\n",
    "    for filename in os.listdir(input_folder):\n",
    "        # Check if the file is a video (you can customize this to check for specific extensions)\n",
    "        if filename.endswith(('.mov')): # could be '.avi', '.mp4', '.mkv'\n",
    "            input_path = os.path.join(input_folder, filename)\n",
    "            output_path = os.path.join(output_folder, filename)\n",
    "\n",
    "            stabilize_video(input_path, output_path)\n",
    "            print(f'Stabilized video saved as {output_path}')\n"
   ]
  },
  {
   "cell_type": "code",
   "execution_count": 26,
   "metadata": {},
   "outputs": [],
   "source": [
    "\n",
    "def stabilize_videos_in_parallel(input_folder, output_folder):\n",
    "    \"\"\"\n",
    "    Stabilize video files from a specified input folder in parallel,\n",
    "\n",
    "    This function searches for video files in the input folder with supported file extensions\n",
    "    (e.g., .mov, .mp4), and processes each video using the `stabilize_video` function in parallel\n",
    "    using a thread pool executor. Stabilized output is saved in the output folder.\n",
    "\n",
    "    \"\"\"\n",
    "    # Create output folder if needed\n",
    "    os.makedirs(output_folder, exist_ok=True)\n",
    "\n",
    "    # Find video files to stabilize (add other formats if needed)\n",
    "    video_files = [f for f in os.listdir(input_folder) if f.lower().endswith(('.mov', '.mp4'))]\n",
    "\n",
    "    # Prepare input and output paths\n",
    "    input_paths = [os.path.join(input_folder, f) for f in video_files]\n",
    "    output_paths = [os.path.join(output_folder, f) for f in video_files]\n",
    "\n",
    "    # Stabilize videos in parallel\n",
    "    with ThreadPoolExecutor(max_workers=os.cpu_count()) as executor:\n",
    "        future_to_video = {executor.submit(stabilize_video, input_path, output_path): video_file\n",
    "                           for input_path, output_path, video_file in zip(input_paths, output_paths, video_files)}\n",
    "\n",
    "        # Wait for the tasks to complete\n",
    "        for future in as_completed(future_to_video):\n",
    "            video_file = future_to_video[future]\n",
    "            try:\n",
    "                future.result()\n",
    "                print(f'Successfully stabilized {video_file}')\n",
    "            except Exception as e:\n",
    "                print(f'Error stabilizing {video_file}: {e}')"
   ]
  },
  {
   "cell_type": "code",
   "execution_count": 27,
   "metadata": {},
   "outputs": [
    {
     "name": "stdout",
     "output_type": "stream",
     "text": [
      "Successfully stabilized MVI_E7512.MOV\n",
      "Successfully stabilized MVI_E7487.MOV\n",
      "Successfully stabilized MVI_E7403.MOV\n"
     ]
    }
   ],
   "source": [
    "input_folder = \"original\"\n",
    "output_folder = \"stabilised\"\n",
    "\n",
    "stabilize_videos_in_parallel(input_folder, output_folder)"
   ]
  },
  {
   "cell_type": "code",
   "execution_count": null,
   "metadata": {},
   "outputs": [],
   "source": []
  }
 ],
 "metadata": {
  "kernelspec": {
   "display_name": "Python 3",
   "language": "python",
   "name": "python3"
  },
  "language_info": {
   "codemirror_mode": {
    "name": "ipython",
    "version": 3
   },
   "file_extension": ".py",
   "mimetype": "text/x-python",
   "name": "python",
   "nbconvert_exporter": "python",
   "pygments_lexer": "ipython3",
   "version": "3.8.0"
  }
 },
 "nbformat": 4,
 "nbformat_minor": 2
}
